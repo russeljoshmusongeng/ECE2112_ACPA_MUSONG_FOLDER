{
 "cells": [
  {
   "cell_type": "markdown",
   "id": "c574b58f-daae-4cfa-8209-467614b59270",
   "metadata": {},
   "source": [
    "ALPHABET SOUP PROBLEM:"
   ]
  },
  {
   "cell_type": "code",
   "execution_count": 1,
   "id": "18754948-f22a-4e13-978d-586836439936",
   "metadata": {},
   "outputs": [],
   "source": [
    "#Function to return the letters of the string in alphabetical order\n",
    "def alphabet_soup(word):\n",
    "    return ''.join(sorted(word))"
   ]
  },
  {
   "cell_type": "code",
   "execution_count": 2,
   "id": "ca362e3a-cd1d-4674-b992-79c7a617dda9",
   "metadata": {},
   "outputs": [
    {
     "name": "stdin",
     "output_type": "stream",
     "text": [
      "Enter a word (e.g. 'hacker'):  hacker\n"
     ]
    },
    {
     "name": "stdout",
     "output_type": "stream",
     "text": [
      "Alphabetically sorted word: acehkr\n"
     ]
    }
   ],
   "source": [
    "# User to input a word\n",
    "user_input = input(\"Enter a word (e.g. 'hacker'): \")\n",
    "result = alphabet_soup(user_input)\n",
    "print(\"Alphabetically sorted word:\", result) #Output"
   ]
  },
  {
   "cell_type": "markdown",
   "id": "1dcb4d03-e3ad-4174-add2-d9163d8d87c7",
   "metadata": {},
   "source": [
    "EMOTICON PROBLEM:"
   ]
  },
  {
   "cell_type": "code",
   "execution_count": 3,
   "id": "c3e9e7f2-19c6-4051-bb9b-6e612bb76897",
   "metadata": {},
   "outputs": [],
   "source": [
    "#Function that replaces the words indicated to emojis\n",
    "def sentence(emote):\n",
    "    emoticons = {\"smile\": \":)\", \"grin\": \":D\", \"sad\": \":(\", \"mad\": \">:(\"} #List \n",
    "    Emote_list = emote.split()\n",
    "    converted = [emoticons.get(e, e) for e in Emote_list] #Replacing the same word in the sentence into emojis from the list\n",
    "    return ' '.join(converted) #After replacing the word to an emoji this will bring the emoji to the sentence"
   ]
  },
  {
   "cell_type": "code",
   "execution_count": 4,
   "id": "b9324369-bfe4-4f64-9aa9-9bfcd86d7270",
   "metadata": {},
   "outputs": [
    {
     "name": "stdin",
     "output_type": "stream",
     "text": [
      "Enter a sentence (e.g. 'Make me smile'):  Make me smile\n"
     ]
    },
    {
     "name": "stdout",
     "output_type": "stream",
     "text": [
      "Make me :)\n"
     ]
    }
   ],
   "source": [
    "user_input = input(\"Enter a sentence (e.g. 'Make me smile'): \")\n",
    "output = sentence(user_input)\n",
    "print(output)"
   ]
  },
  {
   "cell_type": "markdown",
   "id": "b5aa7f16-c28b-4fe1-94d8-8409355fa8b9",
   "metadata": {},
   "source": [
    "UNPACKING LIST PROBLEM"
   ]
  },
  {
   "cell_type": "code",
   "execution_count": 6,
   "id": "211a8115-5344-4423-8fa2-e37820cab8c2",
   "metadata": {},
   "outputs": [
    {
     "name": "stdin",
     "output_type": "stream",
     "text": [
      "Enter a list of numbers separated by spaces (e.g. '1 2 3 4 5 6'):  1 2 3 4 5 6\n"
     ]
    }
   ],
   "source": [
    "#User to input numbers separated by spaces\n",
    "user_input = input(\"Enter a list of numbers separated by spaces (e.g. '1 2 3 4 5 6'): \")"
   ]
  },
  {
   "cell_type": "code",
   "execution_count": 7,
   "id": "e78351e7-fb29-4fd1-a3dd-bb844767d7e6",
   "metadata": {},
   "outputs": [],
   "source": [
    "# Convert the string into a list of integers\n",
    "lst = [int(x) for x in user_input.split()]"
   ]
  },
  {
   "cell_type": "code",
   "execution_count": 8,
   "id": "47e1a84c-3689-4ea3-8403-607acda1d8b2",
   "metadata": {},
   "outputs": [
    {
     "name": "stdout",
     "output_type": "stream",
     "text": [
      "first: 1 middle: [2, 3, 4, 5] last: 6\n"
     ]
    }
   ],
   "source": [
    "# Unpack into first, middle, last (only if the list has at least 3 elements)\n",
    "if len(lst) >= 3:\n",
    "    first, *middle, last = lst \n",
    "    print(\"first:\", first, \"middle:\", middle, \"last:\", last) #Indicator on what to print based on the code above\n",
    "else:\n",
    "    print(\"Please enter at least 3 numbers.\") #Else if otherwise"
   ]
  },
  {
   "cell_type": "code",
   "execution_count": null,
   "id": "c9ac81d0-1b10-4d29-a036-2e1d29e9a28b",
   "metadata": {},
   "outputs": [],
   "source": []
  }
 ],
 "metadata": {
  "kernelspec": {
   "display_name": "Python 3 (ipykernel)",
   "language": "python",
   "name": "python3"
  },
  "language_info": {
   "codemirror_mode": {
    "name": "ipython",
    "version": 3
   },
   "file_extension": ".py",
   "mimetype": "text/x-python",
   "name": "python",
   "nbconvert_exporter": "python",
   "pygments_lexer": "ipython3",
   "version": "3.13.5"
  }
 },
 "nbformat": 4,
 "nbformat_minor": 5
}
